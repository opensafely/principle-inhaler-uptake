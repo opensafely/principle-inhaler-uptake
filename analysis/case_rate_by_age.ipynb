{
 "cells": [
  {
   "cell_type": "code",
   "execution_count": null,
   "source": [
    "import pandas as pd"
   ],
   "outputs": [],
   "metadata": {}
  },
  {
   "cell_type": "code",
   "execution_count": null,
   "source": [
    "case_data_url = 'https://api.coronavirus.data.gov.uk/v2/data?areaType=nation&areaCode=E92000001&metric=newCasesBySpecimenDateAgeDemographics&format=csv'\n",
    "index_date = \"2021-03-29\""
   ],
   "outputs": [],
   "metadata": {}
  },
  {
   "cell_type": "code",
   "execution_count": null,
   "source": [
    "df_case_by_age = pd.read_csv(case_data_url)\n"
   ],
   "outputs": [],
   "metadata": {}
  },
  {
   "cell_type": "code",
   "execution_count": null,
   "source": [
    "#create same age bands as study def\n",
    "df_case_by_age['age_band'] = df_case_by_age.apply(lambda x: '65_plus' if x.age[:1] in ['7','8','9'] or x.age[:2] =='65' else '55_65' if x.age[:2] in ['55','60','65'] else x.age if x.age == 'unassigned' else 'lt_55'  ,axis=1)"
   ],
   "outputs": [],
   "metadata": {}
  },
  {
   "cell_type": "code",
   "execution_count": null,
   "source": [
    "#convert dates to datetime\n",
    "df_case_by_age.date= pd.to_datetime(df_case_by_age.date)"
   ],
   "outputs": [],
   "metadata": {}
  },
  {
   "cell_type": "code",
   "execution_count": null,
   "source": [
    "#filter to study date range\n",
    "df_case_by_age = df_case_by_age[df_case_by_age.date >= index_date]"
   ],
   "outputs": [],
   "metadata": {}
  },
  {
   "cell_type": "code",
   "execution_count": null,
   "source": [
    "df_case_by_age['month'] = df_case_by_age.date.dt.strftime('%Y-%m')"
   ],
   "outputs": [],
   "metadata": {}
  },
  {
   "cell_type": "code",
   "execution_count": 51,
   "source": [
    "display(pd.pivot_table(df_case_by_age,index='month',columns=['age_band'],values='cases',aggfunc='sum',margins=True))"
   ],
   "outputs": [
    {
     "output_type": "display_data",
     "data": {
      "text/plain": [
       "age_band   55_65  65_plus    lt_55  unassigned      All\n",
       "month                                                  \n",
       "2021-03     1500      518    16474          49    18541\n",
       "2021-04     9996     3530   105098         268   118892\n",
       "2021-05     7851     2425   113324          73   123673\n",
       "2021-06    25402     7513   560467         201   593583\n",
       "2021-07    99799    31427  1607530         446  1739202\n",
       "All       144548    45413  2402893        1037  2593891"
      ],
      "text/html": [
       "<div>\n",
       "<style scoped>\n",
       "    .dataframe tbody tr th:only-of-type {\n",
       "        vertical-align: middle;\n",
       "    }\n",
       "\n",
       "    .dataframe tbody tr th {\n",
       "        vertical-align: top;\n",
       "    }\n",
       "\n",
       "    .dataframe thead th {\n",
       "        text-align: right;\n",
       "    }\n",
       "</style>\n",
       "<table border=\"1\" class=\"dataframe\">\n",
       "  <thead>\n",
       "    <tr style=\"text-align: right;\">\n",
       "      <th>age_band</th>\n",
       "      <th>55_65</th>\n",
       "      <th>65_plus</th>\n",
       "      <th>lt_55</th>\n",
       "      <th>unassigned</th>\n",
       "      <th>All</th>\n",
       "    </tr>\n",
       "    <tr>\n",
       "      <th>month</th>\n",
       "      <th></th>\n",
       "      <th></th>\n",
       "      <th></th>\n",
       "      <th></th>\n",
       "      <th></th>\n",
       "    </tr>\n",
       "  </thead>\n",
       "  <tbody>\n",
       "    <tr>\n",
       "      <th>2021-03</th>\n",
       "      <td>1500</td>\n",
       "      <td>518</td>\n",
       "      <td>16474</td>\n",
       "      <td>49</td>\n",
       "      <td>18541</td>\n",
       "    </tr>\n",
       "    <tr>\n",
       "      <th>2021-04</th>\n",
       "      <td>9996</td>\n",
       "      <td>3530</td>\n",
       "      <td>105098</td>\n",
       "      <td>268</td>\n",
       "      <td>118892</td>\n",
       "    </tr>\n",
       "    <tr>\n",
       "      <th>2021-05</th>\n",
       "      <td>7851</td>\n",
       "      <td>2425</td>\n",
       "      <td>113324</td>\n",
       "      <td>73</td>\n",
       "      <td>123673</td>\n",
       "    </tr>\n",
       "    <tr>\n",
       "      <th>2021-06</th>\n",
       "      <td>25402</td>\n",
       "      <td>7513</td>\n",
       "      <td>560467</td>\n",
       "      <td>201</td>\n",
       "      <td>593583</td>\n",
       "    </tr>\n",
       "    <tr>\n",
       "      <th>2021-07</th>\n",
       "      <td>99799</td>\n",
       "      <td>31427</td>\n",
       "      <td>1607530</td>\n",
       "      <td>446</td>\n",
       "      <td>1739202</td>\n",
       "    </tr>\n",
       "    <tr>\n",
       "      <th>All</th>\n",
       "      <td>144548</td>\n",
       "      <td>45413</td>\n",
       "      <td>2402893</td>\n",
       "      <td>1037</td>\n",
       "      <td>2593891</td>\n",
       "    </tr>\n",
       "  </tbody>\n",
       "</table>\n",
       "</div>"
      ]
     },
     "metadata": {}
    }
   ],
   "metadata": {}
  }
 ],
 "metadata": {
  "orig_nbformat": 4,
  "language_info": {
   "name": "python",
   "version": "3.9.5",
   "mimetype": "text/x-python",
   "codemirror_mode": {
    "name": "ipython",
    "version": 3
   },
   "pygments_lexer": "ipython3",
   "nbconvert_exporter": "python",
   "file_extension": ".py"
  },
  "kernelspec": {
   "name": "python3",
   "display_name": "Python 3.9.5 64-bit ('opensafely': conda)"
  },
  "interpreter": {
   "hash": "11ed7fed7e487618fd7c98b006316e299d100c2ce57103853c1eb8bbdd43197e"
  }
 },
 "nbformat": 4,
 "nbformat_minor": 2
}