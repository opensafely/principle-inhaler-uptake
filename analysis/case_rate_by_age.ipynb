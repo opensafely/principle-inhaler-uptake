{
 "cells": [
  {
   "cell_type": "code",
   "execution_count": null,
   "source": [
    "import pandas as pd"
   ],
   "outputs": [],
   "metadata": {}
  },
  {
   "cell_type": "code",
   "execution_count": null,
   "source": [
    "case_data_url = 'https://api.coronavirus.data.gov.uk/v2/data?areaType=nation&areaCode=E92000001&metric=newCasesBySpecimenDateAgeDemographics&format=csv'\n",
    "index_date = \"2021-03-29\""
   ],
   "outputs": [],
   "metadata": {}
  },
  {
   "cell_type": "code",
   "execution_count": null,
   "source": [
    "df_case_by_age = pd.read_csv(case_data_url)\n"
   ],
   "outputs": [],
   "metadata": {}
  },
  {
   "cell_type": "code",
   "execution_count": null,
   "source": [
    "#create same age bands as study def\n",
    "df_case_by_age['age_band'] = df_case_by_age.apply(lambda x: '65_plus' if x.age[:1] in ['7','8','9'] or x.age[:2] =='65' else '55_65' if x.age[:2] in ['55','60','65'] else x.age if x.age == 'unassigned' else 'lt_55'  ,axis=1)"
   ],
   "outputs": [],
   "metadata": {}
  },
  {
   "cell_type": "code",
   "execution_count": null,
   "source": [
    "#convert dates to datetime\n",
    "df_case_by_age.date= pd.to_datetime(df_case_by_age.date)"
   ],
   "outputs": [],
   "metadata": {}
  },
  {
   "cell_type": "code",
   "execution_count": null,
   "source": [
    "#filter to study date range\n",
    "df_case_by_age = df_case_by_age[df_case_by_age.date >= index_date]"
   ],
   "outputs": [],
   "metadata": {}
  },
  {
   "cell_type": "code",
   "execution_count": null,
   "source": [
    "df_case_by_age['month'] = df_case_by_age.date.dt.strftime('%Y-%m')"
   ],
   "outputs": [],
   "metadata": {}
  },
  {
   "cell_type": "code",
   "execution_count": null,
   "source": [
    "pd.pivot_table(df_case_by_age,index='month',columns=['age_band'],values='cases',aggfunc='sum',margins=True)"
   ],
   "outputs": [],
   "metadata": {}
  }
 ],
 "metadata": {
  "orig_nbformat": 4,
  "language_info": {
   "name": "python",
   "version": "3.9.5",
   "mimetype": "text/x-python",
   "codemirror_mode": {
    "name": "ipython",
    "version": 3
   },
   "pygments_lexer": "ipython3",
   "nbconvert_exporter": "python",
   "file_extension": ".py"
  },
  "kernelspec": {
   "name": "python3",
   "display_name": "Python 3.9.5 64-bit ('opensafely': conda)"
  },
  "interpreter": {
   "hash": "11ed7fed7e487618fd7c98b006316e299d100c2ce57103853c1eb8bbdd43197e"
  }
 },
 "nbformat": 4,
 "nbformat_minor": 2
}