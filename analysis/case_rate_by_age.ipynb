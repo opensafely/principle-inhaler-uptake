{
 "cells": [
  {
   "cell_type": "code",
   "execution_count": 1,
   "source": [
    "import pandas as pd"
   ],
   "outputs": [],
   "metadata": {}
  },
  {
   "cell_type": "code",
   "execution_count": 2,
   "source": [
    "case_data_url = 'https://api.coronavirus.data.gov.uk/v2/data?areaType=nation&areaCode=E92000001&metric=newCasesBySpecimenDateAgeDemographics&format=csv'\n",
    "index_date = \"2021-03-29\""
   ],
   "outputs": [],
   "metadata": {}
  },
  {
   "cell_type": "code",
   "execution_count": 3,
   "source": [
    "df_case_by_age = pd.read_csv(case_data_url)\n"
   ],
   "outputs": [],
   "metadata": {}
  },
  {
   "cell_type": "code",
   "execution_count": 4,
   "source": [
    "#create same age bands as study def\n",
    "df_case_by_age['age_band'] = df_case_by_age.apply(lambda x: '65_plus' if x.age[:1] in ['7','8','9'] or x.age[:2] =='65' else '50_64' if x.age[:2] in ['50','55','60'] else x.age if x.age == 'unassigned' else 'lt_50'  ,axis=1)"
   ],
   "outputs": [],
   "metadata": {}
  },
  {
   "cell_type": "code",
   "execution_count": 5,
   "source": [
    "#convert dates to datetime\n",
    "df_case_by_age.date= pd.to_datetime(df_case_by_age.date)"
   ],
   "outputs": [],
   "metadata": {}
  },
  {
   "cell_type": "code",
   "execution_count": 6,
   "source": [
    "#filter to study date range\n",
    "df_case_by_age = df_case_by_age[df_case_by_age.date >= index_date]"
   ],
   "outputs": [],
   "metadata": {}
  },
  {
   "cell_type": "code",
   "execution_count": 7,
   "source": [
    "df_case_by_age['month'] = df_case_by_age.date.dt.strftime('%Y-%m')"
   ],
   "outputs": [],
   "metadata": {}
  },
  {
   "cell_type": "code",
   "execution_count": 8,
   "source": [
    "display(pd.pivot_table(df_case_by_age,index='month',columns=['age_band'],values='cases',aggfunc='sum',margins=True))"
   ],
   "outputs": [
    {
     "output_type": "display_data",
     "data": {
      "text/plain": [
       "age_band   50_65  65_plus    lt_50  unassigned      All\n",
       "month                                                  \n",
       "2021-03     2129      518    15843          49    18539\n",
       "2021-04    13483     3527   101616         266   118892\n",
       "2021-05    10943     2427   110226          73   123669\n",
       "2021-06    37171     7517   548744         200   593632\n",
       "2021-07   151616    34568  1681964         477  1868625\n",
       "2021-08    34071     8860   295377          61   338369\n",
       "All       249413    57417  2753770        1126  3061726"
      ],
      "text/html": [
       "<div>\n",
       "<style scoped>\n",
       "    .dataframe tbody tr th:only-of-type {\n",
       "        vertical-align: middle;\n",
       "    }\n",
       "\n",
       "    .dataframe tbody tr th {\n",
       "        vertical-align: top;\n",
       "    }\n",
       "\n",
       "    .dataframe thead th {\n",
       "        text-align: right;\n",
       "    }\n",
       "</style>\n",
       "<table border=\"1\" class=\"dataframe\">\n",
       "  <thead>\n",
       "    <tr style=\"text-align: right;\">\n",
       "      <th>age_band</th>\n",
       "      <th>50_65</th>\n",
       "      <th>65_plus</th>\n",
       "      <th>lt_50</th>\n",
       "      <th>unassigned</th>\n",
       "      <th>All</th>\n",
       "    </tr>\n",
       "    <tr>\n",
       "      <th>month</th>\n",
       "      <th></th>\n",
       "      <th></th>\n",
       "      <th></th>\n",
       "      <th></th>\n",
       "      <th></th>\n",
       "    </tr>\n",
       "  </thead>\n",
       "  <tbody>\n",
       "    <tr>\n",
       "      <th>2021-03</th>\n",
       "      <td>2129</td>\n",
       "      <td>518</td>\n",
       "      <td>15843</td>\n",
       "      <td>49</td>\n",
       "      <td>18539</td>\n",
       "    </tr>\n",
       "    <tr>\n",
       "      <th>2021-04</th>\n",
       "      <td>13483</td>\n",
       "      <td>3527</td>\n",
       "      <td>101616</td>\n",
       "      <td>266</td>\n",
       "      <td>118892</td>\n",
       "    </tr>\n",
       "    <tr>\n",
       "      <th>2021-05</th>\n",
       "      <td>10943</td>\n",
       "      <td>2427</td>\n",
       "      <td>110226</td>\n",
       "      <td>73</td>\n",
       "      <td>123669</td>\n",
       "    </tr>\n",
       "    <tr>\n",
       "      <th>2021-06</th>\n",
       "      <td>37171</td>\n",
       "      <td>7517</td>\n",
       "      <td>548744</td>\n",
       "      <td>200</td>\n",
       "      <td>593632</td>\n",
       "    </tr>\n",
       "    <tr>\n",
       "      <th>2021-07</th>\n",
       "      <td>151616</td>\n",
       "      <td>34568</td>\n",
       "      <td>1681964</td>\n",
       "      <td>477</td>\n",
       "      <td>1868625</td>\n",
       "    </tr>\n",
       "    <tr>\n",
       "      <th>2021-08</th>\n",
       "      <td>34071</td>\n",
       "      <td>8860</td>\n",
       "      <td>295377</td>\n",
       "      <td>61</td>\n",
       "      <td>338369</td>\n",
       "    </tr>\n",
       "    <tr>\n",
       "      <th>All</th>\n",
       "      <td>249413</td>\n",
       "      <td>57417</td>\n",
       "      <td>2753770</td>\n",
       "      <td>1126</td>\n",
       "      <td>3061726</td>\n",
       "    </tr>\n",
       "  </tbody>\n",
       "</table>\n",
       "</div>"
      ]
     },
     "metadata": {}
    }
   ],
   "metadata": {}
  }
 ],
 "metadata": {
  "orig_nbformat": 4,
  "language_info": {
   "name": "python",
   "version": "3.9.5",
   "mimetype": "text/x-python",
   "codemirror_mode": {
    "name": "ipython",
    "version": 3
   },
   "pygments_lexer": "ipython3",
   "nbconvert_exporter": "python",
   "file_extension": ".py"
  },
  "kernelspec": {
   "name": "python3",
   "display_name": "Python 3.9.5 64-bit ('opensafely': conda)"
  },
  "interpreter": {
   "hash": "11ed7fed7e487618fd7c98b006316e299d100c2ce57103853c1eb8bbdd43197e"
  }
 },
 "nbformat": 4,
 "nbformat_minor": 2
}