{
 "cells": [
  {
   "cell_type": "markdown",
   "source": [
    "# Measuring uptake of inhaled budesonide prescription guidance following COVID-19 infection"
   ],
   "metadata": {}
  },
  {
   "cell_type": "markdown",
   "source": [
    "## Setup, data loading and prepreprocessing"
   ],
   "metadata": {}
  },
  {
   "cell_type": "code",
   "execution_count": null,
   "source": [
    "import pandas as pd"
   ],
   "outputs": [],
   "metadata": {}
  },
  {
   "cell_type": "code",
   "execution_count": null,
   "source": [
    "## low count suppression function\n",
    "def suppress(df_to_suppress,columns,n=10):\n",
    "    for c in columns:\n",
    "        if not c in df_to_suppress.columns:\n",
    "            raise ValueError(f'column {c} not in dataframe')\n",
    "\n",
    "    df = df_to_suppress\n",
    "    for c in df.columns[df.columns.isin(columns)]:\n",
    "        df[f'{c}'] = df[f'{c}'].astype(str)\n",
    "        df[f'{c}'] = df[f'{c}'].apply(lambda x: '<10' if (int(x)>0 and int(x)<n ) else x)\n",
    "    return df"
   ],
   "outputs": [],
   "metadata": {}
  },
  {
   "cell_type": "code",
   "execution_count": null,
   "source": [
    "df = pd.read_csv('../output/input.csv')"
   ],
   "outputs": [],
   "metadata": {}
  },
  {
   "cell_type": "code",
   "execution_count": null,
   "source": [
    "print(f'Total input row count: {len(df.index)}')"
   ],
   "outputs": [],
   "metadata": {}
  },
  {
   "cell_type": "code",
   "execution_count": null,
   "source": [
    "#include only where positive test date is populated\n",
    "df = df[df.first_positive_test_date.notna()]\n",
    "print(f'Patients with positive test: {len(df.index)}')"
   ],
   "outputs": [],
   "metadata": {}
  },
  {
   "cell_type": "code",
   "execution_count": null,
   "source": [
    "#add cohort label [over 65s, over 55s with shielding flag, over 55s with non-shielding flag]\n",
    "df['cohort'] = df.apply(lambda x: x.age_band if x.age_band == '65_plus' else str(x.age_band) + ('H' if x.primis_shield==1 else 'L'),axis=1)\n",
    "df_cohort_counts = df.groupby('cohort').count()['patient_id'].reset_index().rename(columns={'patient_id':'Patient count',\"cohort\":\"Cohort\"})\n",
    "suppressed_df_cohort_counts = suppress(df_cohort_counts,['Patient count'])\n",
    "suppressed_df_cohort_counts.style.hide_index()"
   ],
   "outputs": [],
   "metadata": {}
  },
  {
   "cell_type": "markdown",
   "source": [
    "## COVID-19 Test Types"
   ],
   "metadata": {}
  },
  {
   "cell_type": "code",
   "execution_count": null,
   "source": [
    "#exclude LFT tests, include unknowns\n",
    "df.first_positive_test_type= df.first_positive_test_type.fillna('Unknown')\n",
    "df = df[df.first_positive_test_type!=\"LFT_Only\"]\n",
    "print(f'Patients with non-LFT_Only test: {len(df.index)}')"
   ],
   "outputs": [],
   "metadata": {}
  },
  {
   "cell_type": "code",
   "execution_count": null,
   "source": [
    "df_test_counts = df.groupby('first_positive_test_type').count()['patient_id'].reset_index().rename(columns={'patient_id':'Patient count',\"first_positive_test_type\":\"Type of first recorded positive test\"})\n",
    "supressed_test_type_counts = suppress(df_test_counts,['Patient count'])\n",
    "supressed_test_type_counts.style.hide_index()"
   ],
   "outputs": [],
   "metadata": {}
  },
  {
   "cell_type": "markdown",
   "source": [
    "## Budesonide prescriptions by cohort"
   ],
   "metadata": {}
  },
  {
   "cell_type": "code",
   "execution_count": null,
   "source": [
    "supressed_bd_prescriptions = suppress(df.groupby('budesonide_prescription').count()['patient_id'].reset_index().rename(columns={\"budesonide_prescription\":\"Count of budesonide prescriptions\",\"patient_id\":\"Count of patients\"}),[\"Count of patients\"])\n",
    "supressed_bd_prescriptions.style.hide_index()"
   ],
   "outputs": [],
   "metadata": {}
  },
  {
   "cell_type": "code",
   "execution_count": null,
   "source": [
    "supressed_bd_prescriptions_by_cohort = suppress(df.groupby(['cohort','budesonide_prescription']).count()['patient_id'].reset_index().rename(columns={\"budesonide_prescription\":\"Count of budesonide prescriptions\",\"patient_id\":\"Count of patients\"}),['Count of patients'])\n",
    "supressed_bd_prescriptions_by_cohort.style.hide_index()"
   ],
   "outputs": [],
   "metadata": {}
  },
  {
   "cell_type": "code",
   "execution_count": null,
   "source": [],
   "outputs": [],
   "metadata": {}
  }
 ],
 "metadata": {
  "interpreter": {
   "hash": "11ed7fed7e487618fd7c98b006316e299d100c2ce57103853c1eb8bbdd43197e"
  },
  "kernelspec": {
   "name": "python3",
   "display_name": "Python 3.9.5 64-bit ('opensafely': conda)"
  },
  "language_info": {
   "codemirror_mode": {
    "name": "ipython",
    "version": 3
   },
   "file_extension": ".py",
   "mimetype": "text/x-python",
   "name": "python",
   "nbconvert_exporter": "python",
   "pygments_lexer": "ipython3",
   "version": "3.9.5"
  },
  "orig_nbformat": 4
 },
 "nbformat": 4,
 "nbformat_minor": 2
}