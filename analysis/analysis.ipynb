{
 "cells": [
  {
   "cell_type": "markdown",
   "source": [
    "# Measuring uptake of inhaled budesonide prescription guidance following COVID-19 infection"
   ],
   "metadata": {}
  },
  {
   "cell_type": "markdown",
   "source": [
    "## Setup, data loading and prepreprocessing"
   ],
   "metadata": {}
  },
  {
   "cell_type": "code",
   "execution_count": 2,
   "source": [
    "import pandas as pd"
   ],
   "outputs": [],
   "metadata": {}
  },
  {
   "cell_type": "code",
   "execution_count": 36,
   "source": [
    "## low count suppression function\n",
    "def suppress(df_to_suppress,columns,n=10):\n",
    "    for c in columns:\n",
    "        if not c in df_to_suppress.columns:\n",
    "            raise ValueError(f'column {c} not in dataframe')\n",
    "\n",
    "    df = df_to_suppress\n",
    "    for c in df.columns[df.columns.isin(columns)]:\n",
    "        df[[c]] = df[[c]].astype(str)\n",
    "        df[[c]] = df[c].apply(lambda x: '<10' if (int(x)>0 and int(x)<n ) else x)\n",
    "    return df"
   ],
   "outputs": [],
   "metadata": {}
  },
  {
   "cell_type": "code",
   "execution_count": 5,
   "source": [
    "df = pd.read_csv('../output/input.csv')"
   ],
   "outputs": [],
   "metadata": {}
  },
  {
   "cell_type": "code",
   "execution_count": 6,
   "source": [
    "#exclude LFT tests, include unknowns\n",
    "df.first_positive_test_type= df.first_positive_test_type.fillna('Unknown')\n",
    "df = df[df.first_positive_test_type!=\"LFT\"]"
   ],
   "outputs": [],
   "metadata": {}
  },
  {
   "cell_type": "code",
   "execution_count": 21,
   "source": [
    "#add cohort label [over 65s, over 55s with sheilding flag, over 55s with non-sheilding flag]\n",
    "df['cohort'] = df.apply(lambda x: x.age_band if x.age_band == '65_plus' else str(x.age_band) + ('H' if x.primis_shield==1 else 'L'),axis=1)\n"
   ],
   "outputs": [],
   "metadata": {}
  },
  {
   "cell_type": "markdown",
   "source": [
    "## COVID-19 Test Types"
   ],
   "metadata": {}
  },
  {
   "cell_type": "code",
   "execution_count": 7,
   "source": [
    "df_test_counts = df.groupby('first_positive_test_type').count()['patient_id'].reset_index().rename(columns={'patient_id':'Patient count',\"first_positive_test_type\":\"Type of first recorded positive test\"})\n",
    "supressed_test_type_counts = suppress(df_test_counts,['Patient count'])\n",
    "supressed_test_type_counts.style.hide_index()"
   ],
   "outputs": [],
   "metadata": {}
  },
  {
   "cell_type": "markdown",
   "source": [
    "## Budesonide prescriptions by cohort"
   ],
   "metadata": {}
  },
  {
   "cell_type": "code",
   "execution_count": 51,
   "source": [
    "supressed_bd_prescriptions = suppress(df.groupby('budesonide_prescription').count()['patient_id'].reset_index().rename(columns={\"budesonide_prescription\":\"Count of budesonide prescriptions\",\"patient_id\":\"Count of patients\"}),[\"Count of patients\"])\n",
    "supressed_bd_prescriptions.style.hide_index()"
   ],
   "outputs": [
    {
     "output_type": "execute_result",
     "data": {
      "text/plain": [
       "<pandas.io.formats.style.Styler at 0x7f6f60d24820>"
      ],
      "text/html": [
       "<style  type=\"text/css\" >\n",
       "</style><table id=\"T_db626_\" ><thead>    <tr>        <th class=\"col_heading level0 col0\" >Count of budesonide prescriptions</th>        <th class=\"col_heading level0 col1\" >Count of patients</th>    </tr></thead><tbody>\n",
       "                <tr>\n",
       "                                <td id=\"T_db626_row0_col0\" class=\"data row0 col0\" >-1</td>\n",
       "                        <td id=\"T_db626_row0_col1\" class=\"data row0 col1\" >12</td>\n",
       "            </tr>\n",
       "            <tr>\n",
       "                                <td id=\"T_db626_row1_col0\" class=\"data row1 col0\" >0</td>\n",
       "                        <td id=\"T_db626_row1_col1\" class=\"data row1 col1\" >725</td>\n",
       "            </tr>\n",
       "            <tr>\n",
       "                                <td id=\"T_db626_row2_col0\" class=\"data row2 col0\" >1</td>\n",
       "                        <td id=\"T_db626_row2_col1\" class=\"data row2 col1\" >185</td>\n",
       "            </tr>\n",
       "            <tr>\n",
       "                                <td id=\"T_db626_row3_col0\" class=\"data row3 col0\" >2</td>\n",
       "                        <td id=\"T_db626_row3_col1\" class=\"data row3 col1\" >68</td>\n",
       "            </tr>\n",
       "            <tr>\n",
       "                                <td id=\"T_db626_row4_col0\" class=\"data row4 col0\" >3</td>\n",
       "                        <td id=\"T_db626_row4_col1\" class=\"data row4 col1\" ><10</td>\n",
       "            </tr>\n",
       "            <tr>\n",
       "                                <td id=\"T_db626_row5_col0\" class=\"data row5 col0\" >4</td>\n",
       "                        <td id=\"T_db626_row5_col1\" class=\"data row5 col1\" ><10</td>\n",
       "            </tr>\n",
       "    </tbody></table>"
      ]
     },
     "metadata": {},
     "execution_count": 51
    }
   ],
   "metadata": {}
  },
  {
   "cell_type": "code",
   "execution_count": 52,
   "source": [
    "supressed_bd_prescriptions_by_cohort = suppress(df.groupby(['cohort','budesonide_prescription']).count()['patient_id'].reset_index().rename(columns={\"budesonide_prescription\":\"Count of budesonide prescriptions\",\"patient_id\":\"Count of patients\"}),['Count of patients'])\n",
    "supressed_bd_prescriptions_by_cohort.style.hide_index()"
   ],
   "outputs": [
    {
     "output_type": "execute_result",
     "data": {
      "text/plain": [
       "<pandas.io.formats.style.Styler at 0x7f6f61023a60>"
      ],
      "text/html": [
       "<style  type=\"text/css\" >\n",
       "</style><table id=\"T_da4b8_\" ><thead>    <tr>        <th class=\"col_heading level0 col0\" >cohort</th>        <th class=\"col_heading level0 col1\" >Count of budesonide prescriptions</th>        <th class=\"col_heading level0 col2\" >Count of patients</th>    </tr></thead><tbody>\n",
       "                <tr>\n",
       "                                <td id=\"T_da4b8_row0_col0\" class=\"data row0 col0\" >55_65L</td>\n",
       "                        <td id=\"T_da4b8_row0_col1\" class=\"data row0 col1\" >0</td>\n",
       "                        <td id=\"T_da4b8_row0_col2\" class=\"data row0 col2\" >31</td>\n",
       "            </tr>\n",
       "            <tr>\n",
       "                                <td id=\"T_da4b8_row1_col0\" class=\"data row1 col0\" >55_65L</td>\n",
       "                        <td id=\"T_da4b8_row1_col1\" class=\"data row1 col1\" >1</td>\n",
       "                        <td id=\"T_da4b8_row1_col2\" class=\"data row1 col2\" ><10</td>\n",
       "            </tr>\n",
       "            <tr>\n",
       "                                <td id=\"T_da4b8_row2_col0\" class=\"data row2 col0\" >55_65L</td>\n",
       "                        <td id=\"T_da4b8_row2_col1\" class=\"data row2 col1\" >2</td>\n",
       "                        <td id=\"T_da4b8_row2_col2\" class=\"data row2 col2\" ><10</td>\n",
       "            </tr>\n",
       "            <tr>\n",
       "                                <td id=\"T_da4b8_row3_col0\" class=\"data row3 col0\" >65_plus</td>\n",
       "                        <td id=\"T_da4b8_row3_col1\" class=\"data row3 col1\" >0</td>\n",
       "                        <td id=\"T_da4b8_row3_col2\" class=\"data row3 col2\" >33</td>\n",
       "            </tr>\n",
       "            <tr>\n",
       "                                <td id=\"T_da4b8_row4_col0\" class=\"data row4 col0\" >65_plus</td>\n",
       "                        <td id=\"T_da4b8_row4_col1\" class=\"data row4 col1\" >1</td>\n",
       "                        <td id=\"T_da4b8_row4_col2\" class=\"data row4 col2\" ><10</td>\n",
       "            </tr>\n",
       "            <tr>\n",
       "                                <td id=\"T_da4b8_row5_col0\" class=\"data row5 col0\" >lt_55H</td>\n",
       "                        <td id=\"T_da4b8_row5_col1\" class=\"data row5 col1\" >0</td>\n",
       "                        <td id=\"T_da4b8_row5_col2\" class=\"data row5 col2\" >28</td>\n",
       "            </tr>\n",
       "            <tr>\n",
       "                                <td id=\"T_da4b8_row6_col0\" class=\"data row6 col0\" >lt_55H</td>\n",
       "                        <td id=\"T_da4b8_row6_col1\" class=\"data row6 col1\" >1</td>\n",
       "                        <td id=\"T_da4b8_row6_col2\" class=\"data row6 col2\" ><10</td>\n",
       "            </tr>\n",
       "            <tr>\n",
       "                                <td id=\"T_da4b8_row7_col0\" class=\"data row7 col0\" >lt_55H</td>\n",
       "                        <td id=\"T_da4b8_row7_col1\" class=\"data row7 col1\" >2</td>\n",
       "                        <td id=\"T_da4b8_row7_col2\" class=\"data row7 col2\" ><10</td>\n",
       "            </tr>\n",
       "            <tr>\n",
       "                                <td id=\"T_da4b8_row8_col0\" class=\"data row8 col0\" >lt_55L</td>\n",
       "                        <td id=\"T_da4b8_row8_col1\" class=\"data row8 col1\" >-1</td>\n",
       "                        <td id=\"T_da4b8_row8_col2\" class=\"data row8 col2\" ><10</td>\n",
       "            </tr>\n",
       "            <tr>\n",
       "                                <td id=\"T_da4b8_row9_col0\" class=\"data row9 col0\" >lt_55L</td>\n",
       "                        <td id=\"T_da4b8_row9_col1\" class=\"data row9 col1\" >0</td>\n",
       "                        <td id=\"T_da4b8_row9_col2\" class=\"data row9 col2\" >278</td>\n",
       "            </tr>\n",
       "            <tr>\n",
       "                                <td id=\"T_da4b8_row10_col0\" class=\"data row10 col0\" >lt_55L</td>\n",
       "                        <td id=\"T_da4b8_row10_col1\" class=\"data row10 col1\" >1</td>\n",
       "                        <td id=\"T_da4b8_row10_col2\" class=\"data row10 col2\" >71</td>\n",
       "            </tr>\n",
       "            <tr>\n",
       "                                <td id=\"T_da4b8_row11_col0\" class=\"data row11 col0\" >lt_55L</td>\n",
       "                        <td id=\"T_da4b8_row11_col1\" class=\"data row11 col1\" >2</td>\n",
       "                        <td id=\"T_da4b8_row11_col2\" class=\"data row11 col2\" >23</td>\n",
       "            </tr>\n",
       "            <tr>\n",
       "                                <td id=\"T_da4b8_row12_col0\" class=\"data row12 col0\" >lt_55L</td>\n",
       "                        <td id=\"T_da4b8_row12_col1\" class=\"data row12 col1\" >3</td>\n",
       "                        <td id=\"T_da4b8_row12_col2\" class=\"data row12 col2\" ><10</td>\n",
       "            </tr>\n",
       "            <tr>\n",
       "                                <td id=\"T_da4b8_row13_col0\" class=\"data row13 col0\" >lt_55L</td>\n",
       "                        <td id=\"T_da4b8_row13_col1\" class=\"data row13 col1\" >4</td>\n",
       "                        <td id=\"T_da4b8_row13_col2\" class=\"data row13 col2\" ><10</td>\n",
       "            </tr>\n",
       "            <tr>\n",
       "                                <td id=\"T_da4b8_row14_col0\" class=\"data row14 col0\" >nanH</td>\n",
       "                        <td id=\"T_da4b8_row14_col1\" class=\"data row14 col1\" >-1</td>\n",
       "                        <td id=\"T_da4b8_row14_col2\" class=\"data row14 col2\" ><10</td>\n",
       "            </tr>\n",
       "            <tr>\n",
       "                                <td id=\"T_da4b8_row15_col0\" class=\"data row15 col0\" >nanH</td>\n",
       "                        <td id=\"T_da4b8_row15_col1\" class=\"data row15 col1\" >0</td>\n",
       "                        <td id=\"T_da4b8_row15_col2\" class=\"data row15 col2\" >37</td>\n",
       "            </tr>\n",
       "            <tr>\n",
       "                                <td id=\"T_da4b8_row16_col0\" class=\"data row16 col0\" >nanH</td>\n",
       "                        <td id=\"T_da4b8_row16_col1\" class=\"data row16 col1\" >1</td>\n",
       "                        <td id=\"T_da4b8_row16_col2\" class=\"data row16 col2\" >10</td>\n",
       "            </tr>\n",
       "            <tr>\n",
       "                                <td id=\"T_da4b8_row17_col0\" class=\"data row17 col0\" >nanH</td>\n",
       "                        <td id=\"T_da4b8_row17_col1\" class=\"data row17 col1\" >2</td>\n",
       "                        <td id=\"T_da4b8_row17_col2\" class=\"data row17 col2\" ><10</td>\n",
       "            </tr>\n",
       "            <tr>\n",
       "                                <td id=\"T_da4b8_row18_col0\" class=\"data row18 col0\" >nanH</td>\n",
       "                        <td id=\"T_da4b8_row18_col1\" class=\"data row18 col1\" >3</td>\n",
       "                        <td id=\"T_da4b8_row18_col2\" class=\"data row18 col2\" ><10</td>\n",
       "            </tr>\n",
       "            <tr>\n",
       "                                <td id=\"T_da4b8_row19_col0\" class=\"data row19 col0\" >nanL</td>\n",
       "                        <td id=\"T_da4b8_row19_col1\" class=\"data row19 col1\" >-1</td>\n",
       "                        <td id=\"T_da4b8_row19_col2\" class=\"data row19 col2\" ><10</td>\n",
       "            </tr>\n",
       "            <tr>\n",
       "                                <td id=\"T_da4b8_row20_col0\" class=\"data row20 col0\" >nanL</td>\n",
       "                        <td id=\"T_da4b8_row20_col1\" class=\"data row20 col1\" >0</td>\n",
       "                        <td id=\"T_da4b8_row20_col2\" class=\"data row20 col2\" >318</td>\n",
       "            </tr>\n",
       "            <tr>\n",
       "                                <td id=\"T_da4b8_row21_col0\" class=\"data row21 col0\" >nanL</td>\n",
       "                        <td id=\"T_da4b8_row21_col1\" class=\"data row21 col1\" >1</td>\n",
       "                        <td id=\"T_da4b8_row21_col2\" class=\"data row21 col2\" >87</td>\n",
       "            </tr>\n",
       "            <tr>\n",
       "                                <td id=\"T_da4b8_row22_col0\" class=\"data row22 col0\" >nanL</td>\n",
       "                        <td id=\"T_da4b8_row22_col1\" class=\"data row22 col1\" >2</td>\n",
       "                        <td id=\"T_da4b8_row22_col2\" class=\"data row22 col2\" >33</td>\n",
       "            </tr>\n",
       "            <tr>\n",
       "                                <td id=\"T_da4b8_row23_col0\" class=\"data row23 col0\" >nanL</td>\n",
       "                        <td id=\"T_da4b8_row23_col1\" class=\"data row23 col1\" >3</td>\n",
       "                        <td id=\"T_da4b8_row23_col2\" class=\"data row23 col2\" ><10</td>\n",
       "            </tr>\n",
       "    </tbody></table>"
      ]
     },
     "metadata": {},
     "execution_count": 52
    }
   ],
   "metadata": {}
  }
 ],
 "metadata": {
  "interpreter": {
   "hash": "11ed7fed7e487618fd7c98b006316e299d100c2ce57103853c1eb8bbdd43197e"
  },
  "kernelspec": {
   "name": "python3",
   "display_name": "Python 3.9.5 64-bit ('opensafely': conda)"
  },
  "language_info": {
   "codemirror_mode": {
    "name": "ipython",
    "version": 3
   },
   "file_extension": ".py",
   "mimetype": "text/x-python",
   "name": "python",
   "nbconvert_exporter": "python",
   "pygments_lexer": "ipython3",
   "version": "3.9.5"
  },
  "orig_nbformat": 4
 },
 "nbformat": 4,
 "nbformat_minor": 2
}