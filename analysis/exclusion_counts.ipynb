{
 "cells": [
  {
   "cell_type": "code",
   "execution_count": null,
   "source": [
    "import pandas as pd"
   ],
   "outputs": [],
   "metadata": {}
  },
  {
   "cell_type": "code",
   "execution_count": null,
   "source": [
    "## low count suppression function\n",
    "def suppress(df_to_suppress,columns,n=10):\n",
    "    for c in columns:\n",
    "        if not c in df_to_suppress.columns:\n",
    "            raise ValueError(f'column {c} not in dataframe')\n",
    "\n",
    "    df = df_to_suppress\n",
    "    for c in df.columns[df.columns.isin(columns)]:\n",
    "        df[f'{c}'] = df[f'{c}'].astype(str)\n",
    "        df[f'{c}'] = df[f'{c}'].apply(lambda x: '<10' if (int(x)>0 and int(x)<n ) else x)\n",
    "    return df"
   ],
   "outputs": [],
   "metadata": {}
  },
  {
   "cell_type": "code",
   "execution_count": null,
   "source": [
    "def suppress_scalar(val):\n",
    "    return '<10' if int(val) <10 else val"
   ],
   "outputs": [],
   "metadata": {}
  },
  {
   "cell_type": "code",
   "execution_count": null,
   "source": [
    "def print_remainder(df):\n",
    "    print(f'Remaining people: {suppress_scalar(len(df.index))}')"
   ],
   "outputs": [],
   "metadata": {}
  },
  {
   "cell_type": "code",
   "execution_count": null,
   "source": [
    "df = pd.read_csv('../output/input_exclusioncounts.csv')"
   ],
   "outputs": [],
   "metadata": {}
  },
  {
   "cell_type": "markdown",
   "source": [
    "## Preliminary exclusions\n",
    "Remove people who have died or are no longer registered at the practice at the time of study"
   ],
   "metadata": {}
  },
  {
   "cell_type": "code",
   "execution_count": null,
   "source": [
    "print(f'People having been recorded as having died: {suppress_scalar(len(df[df.has_died == 1].index))}')\n",
    "df = df[df.has_died == 0]\n",
    "print_remainder(df)"
   ],
   "outputs": [],
   "metadata": {}
  },
  {
   "cell_type": "code",
   "execution_count": null,
   "source": [
    "print(f'People having been recorded as not being registered: {suppress_scalar(len(df[df.registered == 0].index))}')\n",
    "df = df[df.registered == 1]\n",
    "print_remainder(df)"
   ],
   "outputs": [],
   "metadata": {}
  },
  {
   "cell_type": "markdown",
   "source": [
    "## Sex\n",
    "Include people recorded as having a sex of 'M' or 'F'"
   ],
   "metadata": {}
  },
  {
   "cell_type": "code",
   "execution_count": null,
   "source": [
    "df = df[(df.sex == 'M') | (df.sex == 'F')]\n",
    "print_remainder(df)"
   ],
   "outputs": [],
   "metadata": {}
  },
  {
   "cell_type": "markdown",
   "source": [
    "## Age\n",
    "Three cohorts included based on age at time of positive COVID-19 test and PRIMIS sheilding flags (estimated expected proportion):\n",
    "* over 65s (85%)\n",
    "* over 50s (15%)\n",
    "  - with shielding flag (5%)\n",
    "  - over 50s with non-shielding flag (10%)"
   ],
   "metadata": {}
  },
  {
   "cell_type": "code",
   "execution_count": null,
   "source": [
    "df['age_band'] =  df.apply(lambda x: '65_plus' if x.age>=65 else '50_65' if (x.age>=55 and x.age<65) else 'lt_50',axis=1)\n",
    "df['cohort'] = df.apply(lambda x: x.age_band if x.age_band == '65_plus' else x.age_band if x.age_band == 'lt_50' else str(x.age_band) + ('H' if x.primis_shield==1 else 'L' if x.primis_nonshield==1 else 'N'),axis=1)\n",
    "df_cohort_counts = df.groupby('cohort').count()['patient_id'].reset_index().rename(columns={'patient_id':'Patient count',\"cohort\":\"Cohort\"})\n",
    "suppressed_df_cohort_counts = suppress(df_cohort_counts,['Patient count'])\n",
    "suppressed_df_cohort_counts.style.hide_index()"
   ],
   "outputs": [],
   "metadata": {}
  },
  {
   "cell_type": "code",
   "execution_count": null,
   "source": [
    "#drop under 50s and 50-65s with no COVID risk status\n",
    "df=df[(df.cohort!='lt_50')]\n",
    "df=df[(df.cohort!='50_65N')]\n",
    "print_remainder(df)"
   ],
   "outputs": [],
   "metadata": {}
  },
  {
   "cell_type": "markdown",
   "source": [
    "## PCR Testing\n",
    "Only patients identified as having COVID-19 by PCR testing to be included in this study"
   ],
   "metadata": {}
  },
  {
   "cell_type": "code",
   "execution_count": null,
   "source": [
    "print(f'Most recent positive test date: {pd.to_datetime(df.first_positive_test_date).max()}')"
   ],
   "outputs": [],
   "metadata": {}
  },
  {
   "cell_type": "code",
   "execution_count": null,
   "source": [
    "excl_count = len(df[df.first_positive_test_type == \"LFT_Only\"].index)\n",
    "print(f'Patients identified as COVID-positive only by lateral flow test {suppress_scalar(excl_count)}')\n",
    "df = df[df.first_positive_test_type != \"LFT_Only\"]\n",
    "print_remainder(df)"
   ],
   "outputs": [],
   "metadata": {}
  },
  {
   "cell_type": "markdown",
   "source": [
    "# Hospital Admissions\n",
    "Exclude persons identified as \n",
    "* having been admitted to hospital with a\n",
    "  - diagnosis of COVID-19 or \n",
    "  - primary diagnosis of COVID-19\n",
    "* having attended amergency care with a diagnosis of COVID-19"
   ],
   "metadata": {}
  },
  {
   "cell_type": "code",
   "execution_count": null,
   "source": [
    "df_hosp = df.groupby(['primary_covid_hospital_admission','covid_admission','covid_emergency_admission']).count()['patient_id'].reset_index()\n",
    "df_hosp.insert(0,'cohort','All')\n",
    "df_hosp = pd.concat([df_hosp,df.groupby(['cohort','primary_covid_hospital_admission','covid_admission','covid_emergency_admission']).count()['patient_id'].reset_index()],ignore_index=True)\n",
    "df_hosp.rename(columns={'patient_id':'Count of patients','primary_covid_hospital_admission':'Admitted w/primary CV19 diagnosis','covid_admission':'Admitted w/CV19 diagnosis','covid_emergency_admission':'Emergency Admission w/CV19 diagnosis'},inplace=True)\n",
    "df_hosp = suppress(df_hosp,['Count of patients'])\n",
    "df_hosp.style.hide_index()"
   ],
   "outputs": [],
   "metadata": {}
  },
  {
   "cell_type": "markdown",
   "source": [
    "# Previous Steroid Prescription\n",
    "Exclude patients recorded as having recieved a prescription for inhaled or oral steroids in the three months (90 days) leading up the issuance of the guidance"
   ],
   "metadata": {}
  },
  {
   "cell_type": "code",
   "execution_count": null,
   "source": [
    "df_prev_ccs = df.groupby('has_previous_steroid_prescription').count()['patient_id'].reset_index()\n",
    "df_prev_ccs.insert(0,'cohort','All')\n",
    "df_prev_ccs = pd.concat([df_prev_ccs,df.groupby(['cohort','has_previous_steroid_prescription']).count()['patient_id'].reset_index()],ignore_index=True)\n",
    "df_prev_ccs.rename(columns={'patient_id':'Count of patients','has_previous_steroid_prescription':'Having previous corticosteroid prescription'},inplace=True)\n",
    "df_prev_ccs = suppress(df_prev_ccs,['Count of patients'])\n",
    "df_prev_ccs.style.hide_index()"
   ],
   "outputs": [],
   "metadata": {}
  },
  {
   "cell_type": "markdown",
   "source": [
    "# Hospitalisation x Previous Steroid Prescription\n",
    "Cross-tabluation of previous two exclusion criteria to understand interactions"
   ],
   "metadata": {}
  },
  {
   "cell_type": "code",
   "execution_count": null,
   "source": [
    "hospXccs = pd.pivot_table(df,values='patient_id',index=['primary_covid_hospital_admission','covid_admission','covid_emergency_admission'],columns='has_previous_steroid_prescription',aggfunc='count',fill_value=0,margins=True)\n",
    "hospXccs.rename(columns=lambda y: f'{y}',inplace=True)\n",
    "hospXccs = suppress(hospXccs,hospXccs.columns)\n",
    "hospXccs"
   ],
   "outputs": [],
   "metadata": {}
  },
  {
   "cell_type": "code",
   "execution_count": null,
   "source": [
    "df=df[(df.primary_covid_hospital_admission==0)&(df.covid_admission==0)&(df.covid_emergency_admission==0)&(df.has_previous_steroid_prescription==0)]\n",
    "print_remainder(df)"
   ],
   "outputs": [],
   "metadata": {}
  },
  {
   "cell_type": "markdown",
   "source": [
    "## GP Consultation\n",
    "The presence of a GP consultation within 7 days prior to, or 7 days post the first positive test result is included as an explanatory variable rather than an exclusion criteria due to uncertainty about its recording."
   ],
   "metadata": {}
  },
  {
   "cell_type": "code",
   "execution_count": null,
   "source": [
    "excl_count = len(df[df.with_consultation==0].index)\n",
    "print(f'Patients without GP consultation +/- 7 days from positive test {suppress_scalar(excl_count)}')\n",
    "df = df[df.with_consultation == 1]\n",
    "print_remainder(df)"
   ],
   "outputs": [],
   "metadata": {}
  }
 ],
 "metadata": {
  "orig_nbformat": 4,
  "language_info": {
   "name": "python",
   "version": "3.9.5",
   "mimetype": "text/x-python",
   "codemirror_mode": {
    "name": "ipython",
    "version": 3
   },
   "pygments_lexer": "ipython3",
   "nbconvert_exporter": "python",
   "file_extension": ".py"
  },
  "kernelspec": {
   "name": "python3",
   "display_name": "Python 3.9.5 64-bit ('opensafely': conda)"
  },
  "interpreter": {
   "hash": "11ed7fed7e487618fd7c98b006316e299d100c2ce57103853c1eb8bbdd43197e"
  }
 },
 "nbformat": 4,
 "nbformat_minor": 2
}