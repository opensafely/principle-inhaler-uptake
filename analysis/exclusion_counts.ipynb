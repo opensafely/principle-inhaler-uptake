{
 "cells": [
  {
   "cell_type": "code",
   "execution_count": 35,
   "source": [
    "import pandas as pd"
   ],
   "outputs": [],
   "metadata": {}
  },
  {
   "cell_type": "code",
   "execution_count": 5,
   "source": [
    "## low count suppression function\n",
    "def suppress(df_to_suppress,columns,n=10):\n",
    "    for c in columns:\n",
    "        if not c in df_to_suppress.columns:\n",
    "            raise ValueError(f'column {c} not in dataframe')\n",
    "\n",
    "    df = df_to_suppress\n",
    "    for c in df.columns[df.columns.isin(columns)]:\n",
    "        df[f'{c}'] = df[f'{c}'].astype(str)\n",
    "        df[f'{c}'] = df[f'{c}'].apply(lambda x: '<10' if (int(x)>0 and int(x)<n ) else x)\n",
    "    return df"
   ],
   "outputs": [],
   "metadata": {}
  },
  {
   "cell_type": "code",
   "execution_count": 6,
   "source": [
    "def suppress_scalar(val):\n",
    "    return '<10' if int(val) <10 else val"
   ],
   "outputs": [],
   "metadata": {}
  },
  {
   "cell_type": "code",
   "execution_count": 7,
   "source": [
    "def print_remainder(df):\n",
    "    print(f'Remaining people: {suppress_scalar(len(df.index))}')"
   ],
   "outputs": [],
   "metadata": {}
  },
  {
   "cell_type": "code",
   "execution_count": 8,
   "source": [
    "df = pd.read_csv('../output/input_exclusioncounts.csv')"
   ],
   "outputs": [],
   "metadata": {}
  },
  {
   "cell_type": "markdown",
   "source": [
    "## Preliminary exclusions\n",
    "Remove people who have died or are no longer registered at the practice at the time of study"
   ],
   "metadata": {}
  },
  {
   "cell_type": "code",
   "execution_count": null,
   "source": [
    "print(f'People having been recorded as having died: {suppress_scalar(len(df[df.has_died == 1].index))}')\n",
    "df = df[df.has_died == 0]\n",
    "print_remainder(df)"
   ],
   "outputs": [],
   "metadata": {}
  },
  {
   "cell_type": "code",
   "execution_count": null,
   "source": [
    "print(f'People having been recorded as not being registered: {suppress_scalar(len(df[df.registered == 0].index))}')\n",
    "df = df[df.registered == 1]\n",
    "print_remainder(df)"
   ],
   "outputs": [],
   "metadata": {}
  },
  {
   "cell_type": "markdown",
   "source": [
    "## Sex\n",
    "Include people recorded as having a sex of 'M' or 'F'"
   ],
   "metadata": {}
  },
  {
   "cell_type": "code",
   "execution_count": null,
   "source": [
    "df = df[(df.sex == 'M') | (df.sex == 'F')]\n",
    "print_remainder(df)"
   ],
   "outputs": [],
   "metadata": {}
  },
  {
   "cell_type": "markdown",
   "source": [
    "## Age\n",
    "Three cohorts included based on age at time of positive COVID-19 test and PRIMIS sheilding flags (estimated expected proportion):\n",
    "* over 65s (85%)\n",
    "* over 55s (15%)\n",
    "  - with shielding flag (5%)\n",
    "  - over 55s with non-shielding flag (10%)"
   ],
   "metadata": {}
  },
  {
   "cell_type": "code",
   "execution_count": 33,
   "source": [
    "df['age_band'] =  df.apply(lambda x: '65_plus' if x.age>=65 else '55_65' if (x.age>=55 and x.age<65) else 'lt_55',axis=1)\n",
    "df['cohort'] = df.apply(lambda x: x.age_band if x.age_band == '65_plus' else x.age_band if x.age_band == 'lt_55' else str(x.age_band) + ('H' if x.primis_shield==1 else 'L' if x.primis_nonshield==1 else 'N'),axis=1)\n",
    "df_cohort_counts = df.groupby('cohort').count()['patient_id'].reset_index().rename(columns={'patient_id':'Patient count',\"cohort\":\"Cohort\"})\n",
    "suppressed_df_cohort_counts = suppress(df_cohort_counts,['Patient count'])\n",
    "suppressed_df_cohort_counts.style.hide_index()"
   ],
   "outputs": [
    {
     "output_type": "execute_result",
     "data": {
      "text/plain": [
       "<pandas.io.formats.style.Styler at 0x7f29aaab5d90>"
      ],
      "text/html": [
       "<style  type=\"text/css\" >\n",
       "</style><table id=\"T_7189f_\" ><thead>    <tr>        <th class=\"col_heading level0 col0\" >Cohort</th>        <th class=\"col_heading level0 col1\" >Patient count</th>    </tr></thead><tbody>\n",
       "                <tr>\n",
       "                                <td id=\"T_7189f_row0_col0\" class=\"data row0 col0\" >55_65H</td>\n",
       "                        <td id=\"T_7189f_row0_col1\" class=\"data row0 col1\" >12</td>\n",
       "            </tr>\n",
       "            <tr>\n",
       "                                <td id=\"T_7189f_row1_col0\" class=\"data row1 col0\" >55_65L</td>\n",
       "                        <td id=\"T_7189f_row1_col1\" class=\"data row1 col1\" >120</td>\n",
       "            </tr>\n",
       "            <tr>\n",
       "                                <td id=\"T_7189f_row2_col0\" class=\"data row2 col0\" >65_plus</td>\n",
       "                        <td id=\"T_7189f_row2_col1\" class=\"data row2 col1\" >191</td>\n",
       "            </tr>\n",
       "            <tr>\n",
       "                                <td id=\"T_7189f_row3_col0\" class=\"data row3 col0\" >lt_55</td>\n",
       "                        <td id=\"T_7189f_row3_col1\" class=\"data row3 col1\" >677</td>\n",
       "            </tr>\n",
       "    </tbody></table>"
      ]
     },
     "metadata": {},
     "execution_count": 33
    }
   ],
   "metadata": {}
  },
  {
   "cell_type": "code",
   "execution_count": 9,
   "source": [
    "df=df[(df.age_band!='lt_55')&(df.age_band!='55_65N')]\n",
    "print_remainder(df)"
   ],
   "outputs": [
    {
     "output_type": "stream",
     "name": "stdout",
     "text": [
      "Remaining people: 1000\n"
     ]
    }
   ],
   "metadata": {}
  },
  {
   "cell_type": "markdown",
   "source": [
    "## PCR Testing\n",
    "Only patients identified as having COVID-19 by PCR testing to be included in this study"
   ],
   "metadata": {}
  },
  {
   "cell_type": "code",
   "execution_count": 34,
   "source": [
    "print(f'Most recent positive test date: {pd.to_datetime(df.first_positive_test_date).max()}')"
   ],
   "outputs": [
    {
     "output_type": "stream",
     "name": "stdout",
     "text": [
      "Most recent positive test date: 2021-07-29 00:00:00\n"
     ]
    }
   ],
   "metadata": {}
  },
  {
   "cell_type": "code",
   "execution_count": 30,
   "source": [
    "excl_count = len(df[df.first_positive_test_type == \"LFT_Only\"].index)\n",
    "print(f'Patients identified as COVID-positive only by lateral flow test {suppress_scalar(excl_count)}')\n",
    "df = df[df.first_positive_test_type != \"LFT_Only\"]\n",
    "print_remainder(df)"
   ],
   "outputs": [
    {
     "output_type": "stream",
     "name": "stdout",
     "text": [
      "Patients identified as COVID-positive only by lateral flow test <10\n",
      "Remaining people: 1000\n"
     ]
    }
   ],
   "metadata": {}
  },
  {
   "cell_type": "markdown",
   "source": [
    "# Hospital Admissions\n",
    "Exclude persons identified as \n",
    "* having been admitted to hospital with a\n",
    "  - diagnosis of COVID-19 or \n",
    "  - primary diagnosis of COVID-19\n",
    "* having attended amergency care with a diagnosis of COVID-19"
   ],
   "metadata": {}
  },
  {
   "cell_type": "code",
   "execution_count": 22,
   "source": [
    "df_hosp = df.groupby(['primary_covid_hospital_admission','covid_admission','covid_emergency_admission']).count()['patient_id'].reset_index()\n",
    "df_hosp.insert(0,'cohort','All')\n",
    "df_hosp = pd.concat([df_hosp,df.groupby(['cohort','primary_covid_hospital_admission','covid_admission','covid_emergency_admission']).count()['patient_id'].reset_index()],ignore_index=True)\n",
    "df_hosp.rename(columns={'patient_id':'Count of patients','primary_covid_hospital_admission':'Admitted w/primary CV19 diagnosis','covid_admission':'Admitted w/CV19 diagnosis','covid_emergency_admission':'Emergency Admission w/CV19 diagnosis'},inplace=True)\n",
    "df_hosp = suppress(df_hosp,['Count of patients'])\n",
    "df_hosp.style.hide_index()"
   ],
   "outputs": [
    {
     "output_type": "execute_result",
     "data": {
      "text/plain": [
       "<pandas.io.formats.style.Styler at 0x7f29a8d1c670>"
      ],
      "text/html": [
       "<style  type=\"text/css\" >\n",
       "</style><table id=\"T_c9dfa_\" ><thead>    <tr>        <th class=\"col_heading level0 col0\" >cohort</th>        <th class=\"col_heading level0 col1\" >Admitted w/primary CV19 diagnosis</th>        <th class=\"col_heading level0 col2\" >Admitted w/CV19 diagnosis</th>        <th class=\"col_heading level0 col3\" >Emergency Admission w/CV19 diagnosis</th>        <th class=\"col_heading level0 col4\" >Count of patients</th>    </tr></thead><tbody>\n",
       "                <tr>\n",
       "                                <td id=\"T_c9dfa_row0_col0\" class=\"data row0 col0\" >All</td>\n",
       "                        <td id=\"T_c9dfa_row0_col1\" class=\"data row0 col1\" >0</td>\n",
       "                        <td id=\"T_c9dfa_row0_col2\" class=\"data row0 col2\" >0</td>\n",
       "                        <td id=\"T_c9dfa_row0_col3\" class=\"data row0 col3\" >0</td>\n",
       "                        <td id=\"T_c9dfa_row0_col4\" class=\"data row0 col4\" >629</td>\n",
       "            </tr>\n",
       "            <tr>\n",
       "                                <td id=\"T_c9dfa_row1_col0\" class=\"data row1 col0\" >All</td>\n",
       "                        <td id=\"T_c9dfa_row1_col1\" class=\"data row1 col1\" >0</td>\n",
       "                        <td id=\"T_c9dfa_row1_col2\" class=\"data row1 col2\" >0</td>\n",
       "                        <td id=\"T_c9dfa_row1_col3\" class=\"data row1 col3\" >1</td>\n",
       "                        <td id=\"T_c9dfa_row1_col4\" class=\"data row1 col4\" >33</td>\n",
       "            </tr>\n",
       "            <tr>\n",
       "                                <td id=\"T_c9dfa_row2_col0\" class=\"data row2 col0\" >All</td>\n",
       "                        <td id=\"T_c9dfa_row2_col1\" class=\"data row2 col1\" >0</td>\n",
       "                        <td id=\"T_c9dfa_row2_col2\" class=\"data row2 col2\" >1</td>\n",
       "                        <td id=\"T_c9dfa_row2_col3\" class=\"data row2 col3\" >0</td>\n",
       "                        <td id=\"T_c9dfa_row2_col4\" class=\"data row2 col4\" >32</td>\n",
       "            </tr>\n",
       "            <tr>\n",
       "                                <td id=\"T_c9dfa_row3_col0\" class=\"data row3 col0\" >All</td>\n",
       "                        <td id=\"T_c9dfa_row3_col1\" class=\"data row3 col1\" >0</td>\n",
       "                        <td id=\"T_c9dfa_row3_col2\" class=\"data row3 col2\" >1</td>\n",
       "                        <td id=\"T_c9dfa_row3_col3\" class=\"data row3 col3\" >1</td>\n",
       "                        <td id=\"T_c9dfa_row3_col4\" class=\"data row3 col4\" ><10</td>\n",
       "            </tr>\n",
       "            <tr>\n",
       "                                <td id=\"T_c9dfa_row4_col0\" class=\"data row4 col0\" >All</td>\n",
       "                        <td id=\"T_c9dfa_row4_col1\" class=\"data row4 col1\" >1</td>\n",
       "                        <td id=\"T_c9dfa_row4_col2\" class=\"data row4 col2\" >0</td>\n",
       "                        <td id=\"T_c9dfa_row4_col3\" class=\"data row4 col3\" >0</td>\n",
       "                        <td id=\"T_c9dfa_row4_col4\" class=\"data row4 col4\" >277</td>\n",
       "            </tr>\n",
       "            <tr>\n",
       "                                <td id=\"T_c9dfa_row5_col0\" class=\"data row5 col0\" >All</td>\n",
       "                        <td id=\"T_c9dfa_row5_col1\" class=\"data row5 col1\" >1</td>\n",
       "                        <td id=\"T_c9dfa_row5_col2\" class=\"data row5 col2\" >0</td>\n",
       "                        <td id=\"T_c9dfa_row5_col3\" class=\"data row5 col3\" >1</td>\n",
       "                        <td id=\"T_c9dfa_row5_col4\" class=\"data row5 col4\" >11</td>\n",
       "            </tr>\n",
       "            <tr>\n",
       "                                <td id=\"T_c9dfa_row6_col0\" class=\"data row6 col0\" >All</td>\n",
       "                        <td id=\"T_c9dfa_row6_col1\" class=\"data row6 col1\" >1</td>\n",
       "                        <td id=\"T_c9dfa_row6_col2\" class=\"data row6 col2\" >1</td>\n",
       "                        <td id=\"T_c9dfa_row6_col3\" class=\"data row6 col3\" >0</td>\n",
       "                        <td id=\"T_c9dfa_row6_col4\" class=\"data row6 col4\" >12</td>\n",
       "            </tr>\n",
       "            <tr>\n",
       "                                <td id=\"T_c9dfa_row7_col0\" class=\"data row7 col0\" >55_65H</td>\n",
       "                        <td id=\"T_c9dfa_row7_col1\" class=\"data row7 col1\" >0</td>\n",
       "                        <td id=\"T_c9dfa_row7_col2\" class=\"data row7 col2\" >0</td>\n",
       "                        <td id=\"T_c9dfa_row7_col3\" class=\"data row7 col3\" >0</td>\n",
       "                        <td id=\"T_c9dfa_row7_col4\" class=\"data row7 col4\" ><10</td>\n",
       "            </tr>\n",
       "            <tr>\n",
       "                                <td id=\"T_c9dfa_row8_col0\" class=\"data row8 col0\" >55_65H</td>\n",
       "                        <td id=\"T_c9dfa_row8_col1\" class=\"data row8 col1\" >0</td>\n",
       "                        <td id=\"T_c9dfa_row8_col2\" class=\"data row8 col2\" >0</td>\n",
       "                        <td id=\"T_c9dfa_row8_col3\" class=\"data row8 col3\" >1</td>\n",
       "                        <td id=\"T_c9dfa_row8_col4\" class=\"data row8 col4\" ><10</td>\n",
       "            </tr>\n",
       "            <tr>\n",
       "                                <td id=\"T_c9dfa_row9_col0\" class=\"data row9 col0\" >55_65H</td>\n",
       "                        <td id=\"T_c9dfa_row9_col1\" class=\"data row9 col1\" >1</td>\n",
       "                        <td id=\"T_c9dfa_row9_col2\" class=\"data row9 col2\" >0</td>\n",
       "                        <td id=\"T_c9dfa_row9_col3\" class=\"data row9 col3\" >0</td>\n",
       "                        <td id=\"T_c9dfa_row9_col4\" class=\"data row9 col4\" ><10</td>\n",
       "            </tr>\n",
       "            <tr>\n",
       "                                <td id=\"T_c9dfa_row10_col0\" class=\"data row10 col0\" >55_65L</td>\n",
       "                        <td id=\"T_c9dfa_row10_col1\" class=\"data row10 col1\" >0</td>\n",
       "                        <td id=\"T_c9dfa_row10_col2\" class=\"data row10 col2\" >0</td>\n",
       "                        <td id=\"T_c9dfa_row10_col3\" class=\"data row10 col3\" >0</td>\n",
       "                        <td id=\"T_c9dfa_row10_col4\" class=\"data row10 col4\" >68</td>\n",
       "            </tr>\n",
       "            <tr>\n",
       "                                <td id=\"T_c9dfa_row11_col0\" class=\"data row11 col0\" >55_65L</td>\n",
       "                        <td id=\"T_c9dfa_row11_col1\" class=\"data row11 col1\" >0</td>\n",
       "                        <td id=\"T_c9dfa_row11_col2\" class=\"data row11 col2\" >0</td>\n",
       "                        <td id=\"T_c9dfa_row11_col3\" class=\"data row11 col3\" >1</td>\n",
       "                        <td id=\"T_c9dfa_row11_col4\" class=\"data row11 col4\" ><10</td>\n",
       "            </tr>\n",
       "            <tr>\n",
       "                                <td id=\"T_c9dfa_row12_col0\" class=\"data row12 col0\" >55_65L</td>\n",
       "                        <td id=\"T_c9dfa_row12_col1\" class=\"data row12 col1\" >0</td>\n",
       "                        <td id=\"T_c9dfa_row12_col2\" class=\"data row12 col2\" >1</td>\n",
       "                        <td id=\"T_c9dfa_row12_col3\" class=\"data row12 col3\" >0</td>\n",
       "                        <td id=\"T_c9dfa_row12_col4\" class=\"data row12 col4\" ><10</td>\n",
       "            </tr>\n",
       "            <tr>\n",
       "                                <td id=\"T_c9dfa_row13_col0\" class=\"data row13 col0\" >55_65L</td>\n",
       "                        <td id=\"T_c9dfa_row13_col1\" class=\"data row13 col1\" >1</td>\n",
       "                        <td id=\"T_c9dfa_row13_col2\" class=\"data row13 col2\" >0</td>\n",
       "                        <td id=\"T_c9dfa_row13_col3\" class=\"data row13 col3\" >0</td>\n",
       "                        <td id=\"T_c9dfa_row13_col4\" class=\"data row13 col4\" >38</td>\n",
       "            </tr>\n",
       "            <tr>\n",
       "                                <td id=\"T_c9dfa_row14_col0\" class=\"data row14 col0\" >55_65L</td>\n",
       "                        <td id=\"T_c9dfa_row14_col1\" class=\"data row14 col1\" >1</td>\n",
       "                        <td id=\"T_c9dfa_row14_col2\" class=\"data row14 col2\" >0</td>\n",
       "                        <td id=\"T_c9dfa_row14_col3\" class=\"data row14 col3\" >1</td>\n",
       "                        <td id=\"T_c9dfa_row14_col4\" class=\"data row14 col4\" ><10</td>\n",
       "            </tr>\n",
       "            <tr>\n",
       "                                <td id=\"T_c9dfa_row15_col0\" class=\"data row15 col0\" >55_65L</td>\n",
       "                        <td id=\"T_c9dfa_row15_col1\" class=\"data row15 col1\" >1</td>\n",
       "                        <td id=\"T_c9dfa_row15_col2\" class=\"data row15 col2\" >1</td>\n",
       "                        <td id=\"T_c9dfa_row15_col3\" class=\"data row15 col3\" >0</td>\n",
       "                        <td id=\"T_c9dfa_row15_col4\" class=\"data row15 col4\" ><10</td>\n",
       "            </tr>\n",
       "            <tr>\n",
       "                                <td id=\"T_c9dfa_row16_col0\" class=\"data row16 col0\" >65_plus</td>\n",
       "                        <td id=\"T_c9dfa_row16_col1\" class=\"data row16 col1\" >0</td>\n",
       "                        <td id=\"T_c9dfa_row16_col2\" class=\"data row16 col2\" >0</td>\n",
       "                        <td id=\"T_c9dfa_row16_col3\" class=\"data row16 col3\" >0</td>\n",
       "                        <td id=\"T_c9dfa_row16_col4\" class=\"data row16 col4\" >108</td>\n",
       "            </tr>\n",
       "            <tr>\n",
       "                                <td id=\"T_c9dfa_row17_col0\" class=\"data row17 col0\" >65_plus</td>\n",
       "                        <td id=\"T_c9dfa_row17_col1\" class=\"data row17 col1\" >0</td>\n",
       "                        <td id=\"T_c9dfa_row17_col2\" class=\"data row17 col2\" >0</td>\n",
       "                        <td id=\"T_c9dfa_row17_col3\" class=\"data row17 col3\" >1</td>\n",
       "                        <td id=\"T_c9dfa_row17_col4\" class=\"data row17 col4\" ><10</td>\n",
       "            </tr>\n",
       "            <tr>\n",
       "                                <td id=\"T_c9dfa_row18_col0\" class=\"data row18 col0\" >65_plus</td>\n",
       "                        <td id=\"T_c9dfa_row18_col1\" class=\"data row18 col1\" >0</td>\n",
       "                        <td id=\"T_c9dfa_row18_col2\" class=\"data row18 col2\" >1</td>\n",
       "                        <td id=\"T_c9dfa_row18_col3\" class=\"data row18 col3\" >0</td>\n",
       "                        <td id=\"T_c9dfa_row18_col4\" class=\"data row18 col4\" ><10</td>\n",
       "            </tr>\n",
       "            <tr>\n",
       "                                <td id=\"T_c9dfa_row19_col0\" class=\"data row19 col0\" >65_plus</td>\n",
       "                        <td id=\"T_c9dfa_row19_col1\" class=\"data row19 col1\" >0</td>\n",
       "                        <td id=\"T_c9dfa_row19_col2\" class=\"data row19 col2\" >1</td>\n",
       "                        <td id=\"T_c9dfa_row19_col3\" class=\"data row19 col3\" >1</td>\n",
       "                        <td id=\"T_c9dfa_row19_col4\" class=\"data row19 col4\" ><10</td>\n",
       "            </tr>\n",
       "            <tr>\n",
       "                                <td id=\"T_c9dfa_row20_col0\" class=\"data row20 col0\" >65_plus</td>\n",
       "                        <td id=\"T_c9dfa_row20_col1\" class=\"data row20 col1\" >1</td>\n",
       "                        <td id=\"T_c9dfa_row20_col2\" class=\"data row20 col2\" >0</td>\n",
       "                        <td id=\"T_c9dfa_row20_col3\" class=\"data row20 col3\" >0</td>\n",
       "                        <td id=\"T_c9dfa_row20_col4\" class=\"data row20 col4\" >68</td>\n",
       "            </tr>\n",
       "            <tr>\n",
       "                                <td id=\"T_c9dfa_row21_col0\" class=\"data row21 col0\" >65_plus</td>\n",
       "                        <td id=\"T_c9dfa_row21_col1\" class=\"data row21 col1\" >1</td>\n",
       "                        <td id=\"T_c9dfa_row21_col2\" class=\"data row21 col2\" >0</td>\n",
       "                        <td id=\"T_c9dfa_row21_col3\" class=\"data row21 col3\" >1</td>\n",
       "                        <td id=\"T_c9dfa_row21_col4\" class=\"data row21 col4\" ><10</td>\n",
       "            </tr>\n",
       "            <tr>\n",
       "                                <td id=\"T_c9dfa_row22_col0\" class=\"data row22 col0\" >65_plus</td>\n",
       "                        <td id=\"T_c9dfa_row22_col1\" class=\"data row22 col1\" >1</td>\n",
       "                        <td id=\"T_c9dfa_row22_col2\" class=\"data row22 col2\" >1</td>\n",
       "                        <td id=\"T_c9dfa_row22_col3\" class=\"data row22 col3\" >0</td>\n",
       "                        <td id=\"T_c9dfa_row22_col4\" class=\"data row22 col4\" ><10</td>\n",
       "            </tr>\n",
       "            <tr>\n",
       "                                <td id=\"T_c9dfa_row23_col0\" class=\"data row23 col0\" >lt_55H</td>\n",
       "                        <td id=\"T_c9dfa_row23_col1\" class=\"data row23 col1\" >0</td>\n",
       "                        <td id=\"T_c9dfa_row23_col2\" class=\"data row23 col2\" >0</td>\n",
       "                        <td id=\"T_c9dfa_row23_col3\" class=\"data row23 col3\" >0</td>\n",
       "                        <td id=\"T_c9dfa_row23_col4\" class=\"data row23 col4\" >52</td>\n",
       "            </tr>\n",
       "            <tr>\n",
       "                                <td id=\"T_c9dfa_row24_col0\" class=\"data row24 col0\" >lt_55H</td>\n",
       "                        <td id=\"T_c9dfa_row24_col1\" class=\"data row24 col1\" >0</td>\n",
       "                        <td id=\"T_c9dfa_row24_col2\" class=\"data row24 col2\" >0</td>\n",
       "                        <td id=\"T_c9dfa_row24_col3\" class=\"data row24 col3\" >1</td>\n",
       "                        <td id=\"T_c9dfa_row24_col4\" class=\"data row24 col4\" ><10</td>\n",
       "            </tr>\n",
       "            <tr>\n",
       "                                <td id=\"T_c9dfa_row25_col0\" class=\"data row25 col0\" >lt_55H</td>\n",
       "                        <td id=\"T_c9dfa_row25_col1\" class=\"data row25 col1\" >0</td>\n",
       "                        <td id=\"T_c9dfa_row25_col2\" class=\"data row25 col2\" >1</td>\n",
       "                        <td id=\"T_c9dfa_row25_col3\" class=\"data row25 col3\" >0</td>\n",
       "                        <td id=\"T_c9dfa_row25_col4\" class=\"data row25 col4\" ><10</td>\n",
       "            </tr>\n",
       "            <tr>\n",
       "                                <td id=\"T_c9dfa_row26_col0\" class=\"data row26 col0\" >lt_55H</td>\n",
       "                        <td id=\"T_c9dfa_row26_col1\" class=\"data row26 col1\" >0</td>\n",
       "                        <td id=\"T_c9dfa_row26_col2\" class=\"data row26 col2\" >1</td>\n",
       "                        <td id=\"T_c9dfa_row26_col3\" class=\"data row26 col3\" >1</td>\n",
       "                        <td id=\"T_c9dfa_row26_col4\" class=\"data row26 col4\" ><10</td>\n",
       "            </tr>\n",
       "            <tr>\n",
       "                                <td id=\"T_c9dfa_row27_col0\" class=\"data row27 col0\" >lt_55H</td>\n",
       "                        <td id=\"T_c9dfa_row27_col1\" class=\"data row27 col1\" >1</td>\n",
       "                        <td id=\"T_c9dfa_row27_col2\" class=\"data row27 col2\" >0</td>\n",
       "                        <td id=\"T_c9dfa_row27_col3\" class=\"data row27 col3\" >0</td>\n",
       "                        <td id=\"T_c9dfa_row27_col4\" class=\"data row27 col4\" >13</td>\n",
       "            </tr>\n",
       "            <tr>\n",
       "                                <td id=\"T_c9dfa_row28_col0\" class=\"data row28 col0\" >lt_55H</td>\n",
       "                        <td id=\"T_c9dfa_row28_col1\" class=\"data row28 col1\" >1</td>\n",
       "                        <td id=\"T_c9dfa_row28_col2\" class=\"data row28 col2\" >1</td>\n",
       "                        <td id=\"T_c9dfa_row28_col3\" class=\"data row28 col3\" >0</td>\n",
       "                        <td id=\"T_c9dfa_row28_col4\" class=\"data row28 col4\" ><10</td>\n",
       "            </tr>\n",
       "            <tr>\n",
       "                                <td id=\"T_c9dfa_row29_col0\" class=\"data row29 col0\" >lt_55L</td>\n",
       "                        <td id=\"T_c9dfa_row29_col1\" class=\"data row29 col1\" >0</td>\n",
       "                        <td id=\"T_c9dfa_row29_col2\" class=\"data row29 col2\" >0</td>\n",
       "                        <td id=\"T_c9dfa_row29_col3\" class=\"data row29 col3\" >0</td>\n",
       "                        <td id=\"T_c9dfa_row29_col4\" class=\"data row29 col4\" >393</td>\n",
       "            </tr>\n",
       "            <tr>\n",
       "                                <td id=\"T_c9dfa_row30_col0\" class=\"data row30 col0\" >lt_55L</td>\n",
       "                        <td id=\"T_c9dfa_row30_col1\" class=\"data row30 col1\" >0</td>\n",
       "                        <td id=\"T_c9dfa_row30_col2\" class=\"data row30 col2\" >0</td>\n",
       "                        <td id=\"T_c9dfa_row30_col3\" class=\"data row30 col3\" >1</td>\n",
       "                        <td id=\"T_c9dfa_row30_col4\" class=\"data row30 col4\" >22</td>\n",
       "            </tr>\n",
       "            <tr>\n",
       "                                <td id=\"T_c9dfa_row31_col0\" class=\"data row31 col0\" >lt_55L</td>\n",
       "                        <td id=\"T_c9dfa_row31_col1\" class=\"data row31 col1\" >0</td>\n",
       "                        <td id=\"T_c9dfa_row31_col2\" class=\"data row31 col2\" >1</td>\n",
       "                        <td id=\"T_c9dfa_row31_col3\" class=\"data row31 col3\" >0</td>\n",
       "                        <td id=\"T_c9dfa_row31_col4\" class=\"data row31 col4\" >16</td>\n",
       "            </tr>\n",
       "            <tr>\n",
       "                                <td id=\"T_c9dfa_row32_col0\" class=\"data row32 col0\" >lt_55L</td>\n",
       "                        <td id=\"T_c9dfa_row32_col1\" class=\"data row32 col1\" >0</td>\n",
       "                        <td id=\"T_c9dfa_row32_col2\" class=\"data row32 col2\" >1</td>\n",
       "                        <td id=\"T_c9dfa_row32_col3\" class=\"data row32 col3\" >1</td>\n",
       "                        <td id=\"T_c9dfa_row32_col4\" class=\"data row32 col4\" ><10</td>\n",
       "            </tr>\n",
       "            <tr>\n",
       "                                <td id=\"T_c9dfa_row33_col0\" class=\"data row33 col0\" >lt_55L</td>\n",
       "                        <td id=\"T_c9dfa_row33_col1\" class=\"data row33 col1\" >1</td>\n",
       "                        <td id=\"T_c9dfa_row33_col2\" class=\"data row33 col2\" >0</td>\n",
       "                        <td id=\"T_c9dfa_row33_col3\" class=\"data row33 col3\" >0</td>\n",
       "                        <td id=\"T_c9dfa_row33_col4\" class=\"data row33 col4\" >156</td>\n",
       "            </tr>\n",
       "            <tr>\n",
       "                                <td id=\"T_c9dfa_row34_col0\" class=\"data row34 col0\" >lt_55L</td>\n",
       "                        <td id=\"T_c9dfa_row34_col1\" class=\"data row34 col1\" >1</td>\n",
       "                        <td id=\"T_c9dfa_row34_col2\" class=\"data row34 col2\" >0</td>\n",
       "                        <td id=\"T_c9dfa_row34_col3\" class=\"data row34 col3\" >1</td>\n",
       "                        <td id=\"T_c9dfa_row34_col4\" class=\"data row34 col4\" ><10</td>\n",
       "            </tr>\n",
       "            <tr>\n",
       "                                <td id=\"T_c9dfa_row35_col0\" class=\"data row35 col0\" >lt_55L</td>\n",
       "                        <td id=\"T_c9dfa_row35_col1\" class=\"data row35 col1\" >1</td>\n",
       "                        <td id=\"T_c9dfa_row35_col2\" class=\"data row35 col2\" >1</td>\n",
       "                        <td id=\"T_c9dfa_row35_col3\" class=\"data row35 col3\" >0</td>\n",
       "                        <td id=\"T_c9dfa_row35_col4\" class=\"data row35 col4\" ><10</td>\n",
       "            </tr>\n",
       "    </tbody></table>"
      ]
     },
     "metadata": {},
     "execution_count": 22
    }
   ],
   "metadata": {}
  },
  {
   "cell_type": "markdown",
   "source": [
    "# Previous Steroid Prescription\n",
    "Exclude patients recorded as having recieved a prescription for inhaled or oral steroids in the three months (90 days) leading up the issuance of the guidance"
   ],
   "metadata": {}
  },
  {
   "cell_type": "code",
   "execution_count": 29,
   "source": [
    "df_prev_ccs = df.groupby('has_previous_steroid_prescription').count()['patient_id'].reset_index()\n",
    "df_prev_ccs.insert(0,'cohort','All')\n",
    "df_prev_ccs = pd.concat([df_prev_ccs,df.groupby(['cohort','has_previous_steroid_prescription']).count()['patient_id'].reset_index()],ignore_index=True)\n",
    "df_prev_ccs.rename(columns={'patient_id':'Count of patients','has_previous_steroid_prescription':'Having previous corticosteroid prescription'},inplace=True)\n",
    "df_prev_ccs = suppress(df_prev_ccs,['Count of patients'])\n",
    "df_prev_ccs.style.hide_index()"
   ],
   "outputs": [
    {
     "output_type": "execute_result",
     "data": {
      "text/plain": [
       "<pandas.io.formats.style.Styler at 0x7f29aa2f6a30>"
      ],
      "text/html": [
       "<style  type=\"text/css\" >\n",
       "</style><table id=\"T_c569c_\" ><thead>    <tr>        <th class=\"col_heading level0 col0\" >cohort</th>        <th class=\"col_heading level0 col1\" >Having previous corticosteroid prescription</th>        <th class=\"col_heading level0 col2\" >Count of patients</th>    </tr></thead><tbody>\n",
       "                <tr>\n",
       "                                <td id=\"T_c569c_row0_col0\" class=\"data row0 col0\" >All</td>\n",
       "                        <td id=\"T_c569c_row0_col1\" class=\"data row0 col1\" >0</td>\n",
       "                        <td id=\"T_c569c_row0_col2\" class=\"data row0 col2\" >500</td>\n",
       "            </tr>\n",
       "            <tr>\n",
       "                                <td id=\"T_c569c_row1_col0\" class=\"data row1 col0\" >All</td>\n",
       "                        <td id=\"T_c569c_row1_col1\" class=\"data row1 col1\" >1</td>\n",
       "                        <td id=\"T_c569c_row1_col2\" class=\"data row1 col2\" >500</td>\n",
       "            </tr>\n",
       "            <tr>\n",
       "                                <td id=\"T_c569c_row2_col0\" class=\"data row2 col0\" >55_65H</td>\n",
       "                        <td id=\"T_c569c_row2_col1\" class=\"data row2 col1\" >0</td>\n",
       "                        <td id=\"T_c569c_row2_col2\" class=\"data row2 col2\" ><10</td>\n",
       "            </tr>\n",
       "            <tr>\n",
       "                                <td id=\"T_c569c_row3_col0\" class=\"data row3 col0\" >55_65H</td>\n",
       "                        <td id=\"T_c569c_row3_col1\" class=\"data row3 col1\" >1</td>\n",
       "                        <td id=\"T_c569c_row3_col2\" class=\"data row3 col2\" ><10</td>\n",
       "            </tr>\n",
       "            <tr>\n",
       "                                <td id=\"T_c569c_row4_col0\" class=\"data row4 col0\" >55_65L</td>\n",
       "                        <td id=\"T_c569c_row4_col1\" class=\"data row4 col1\" >0</td>\n",
       "                        <td id=\"T_c569c_row4_col2\" class=\"data row4 col2\" >55</td>\n",
       "            </tr>\n",
       "            <tr>\n",
       "                                <td id=\"T_c569c_row5_col0\" class=\"data row5 col0\" >55_65L</td>\n",
       "                        <td id=\"T_c569c_row5_col1\" class=\"data row5 col1\" >1</td>\n",
       "                        <td id=\"T_c569c_row5_col2\" class=\"data row5 col2\" >65</td>\n",
       "            </tr>\n",
       "            <tr>\n",
       "                                <td id=\"T_c569c_row6_col0\" class=\"data row6 col0\" >65_plus</td>\n",
       "                        <td id=\"T_c569c_row6_col1\" class=\"data row6 col1\" >0</td>\n",
       "                        <td id=\"T_c569c_row6_col2\" class=\"data row6 col2\" >101</td>\n",
       "            </tr>\n",
       "            <tr>\n",
       "                                <td id=\"T_c569c_row7_col0\" class=\"data row7 col0\" >65_plus</td>\n",
       "                        <td id=\"T_c569c_row7_col1\" class=\"data row7 col1\" >1</td>\n",
       "                        <td id=\"T_c569c_row7_col2\" class=\"data row7 col2\" >90</td>\n",
       "            </tr>\n",
       "            <tr>\n",
       "                                <td id=\"T_c569c_row8_col0\" class=\"data row8 col0\" >lt_55H</td>\n",
       "                        <td id=\"T_c569c_row8_col1\" class=\"data row8 col1\" >0</td>\n",
       "                        <td id=\"T_c569c_row8_col2\" class=\"data row8 col2\" >33</td>\n",
       "            </tr>\n",
       "            <tr>\n",
       "                                <td id=\"T_c569c_row9_col0\" class=\"data row9 col0\" >lt_55H</td>\n",
       "                        <td id=\"T_c569c_row9_col1\" class=\"data row9 col1\" >1</td>\n",
       "                        <td id=\"T_c569c_row9_col2\" class=\"data row9 col2\" >39</td>\n",
       "            </tr>\n",
       "            <tr>\n",
       "                                <td id=\"T_c569c_row10_col0\" class=\"data row10 col0\" >lt_55L</td>\n",
       "                        <td id=\"T_c569c_row10_col1\" class=\"data row10 col1\" >0</td>\n",
       "                        <td id=\"T_c569c_row10_col2\" class=\"data row10 col2\" >303</td>\n",
       "            </tr>\n",
       "            <tr>\n",
       "                                <td id=\"T_c569c_row11_col0\" class=\"data row11 col0\" >lt_55L</td>\n",
       "                        <td id=\"T_c569c_row11_col1\" class=\"data row11 col1\" >1</td>\n",
       "                        <td id=\"T_c569c_row11_col2\" class=\"data row11 col2\" >302</td>\n",
       "            </tr>\n",
       "    </tbody></table>"
      ]
     },
     "metadata": {},
     "execution_count": 29
    }
   ],
   "metadata": {}
  },
  {
   "cell_type": "markdown",
   "source": [
    "# Hospitalisation x Previous Steroid Prescription\n",
    "Cross-tabluation of previous two exclusion criteria to understand interactions"
   ],
   "metadata": {}
  },
  {
   "cell_type": "code",
   "execution_count": 50,
   "source": [
    "hospXccs = pd.pivot_table(df,values='patient_id',index=['primary_covid_hospital_admission','covid_admission','covid_emergency_admission'],columns='has_previous_steroid_prescription',aggfunc='count',fill_value=0,margins=True)\n",
    "hospXccs.rename(columns=lambda y: f'{y}',inplace=True)\n",
    "hospXccs = suppress(hospXccs,hospXccs.columns)\n",
    "hospXccs"
   ],
   "outputs": [
    {
     "output_type": "execute_result",
     "data": {
      "text/plain": [
       "has_previous_steroid_prescription                                             0  \\\n",
       "primary_covid_hospital_admission covid_admission covid_emergency_admission        \n",
       "0                                0               0                          319   \n",
       "                                                 1                           14   \n",
       "                                 1               0                           19   \n",
       "                                                 1                          <10   \n",
       "1                                0               0                          134   \n",
       "                                                 1                          <10   \n",
       "                                 1               0                          <10   \n",
       "All                                                                         500   \n",
       "\n",
       "has_previous_steroid_prescription                                             1  \\\n",
       "primary_covid_hospital_admission covid_admission covid_emergency_admission        \n",
       "0                                0               0                          310   \n",
       "                                                 1                           19   \n",
       "                                 1               0                           13   \n",
       "                                                 1                          <10   \n",
       "1                                0               0                          143   \n",
       "                                                 1                          <10   \n",
       "                                 1               0                          <10   \n",
       "All                                                                         500   \n",
       "\n",
       "has_previous_steroid_prescription                                            All  \n",
       "primary_covid_hospital_admission covid_admission covid_emergency_admission        \n",
       "0                                0               0                           629  \n",
       "                                                 1                            33  \n",
       "                                 1               0                            32  \n",
       "                                                 1                           <10  \n",
       "1                                0               0                           277  \n",
       "                                                 1                            11  \n",
       "                                 1               0                            12  \n",
       "All                                                                         1000  "
      ],
      "text/html": [
       "<div>\n",
       "<style scoped>\n",
       "    .dataframe tbody tr th:only-of-type {\n",
       "        vertical-align: middle;\n",
       "    }\n",
       "\n",
       "    .dataframe tbody tr th {\n",
       "        vertical-align: top;\n",
       "    }\n",
       "\n",
       "    .dataframe thead th {\n",
       "        text-align: right;\n",
       "    }\n",
       "</style>\n",
       "<table border=\"1\" class=\"dataframe\">\n",
       "  <thead>\n",
       "    <tr style=\"text-align: right;\">\n",
       "      <th></th>\n",
       "      <th></th>\n",
       "      <th>has_previous_steroid_prescription</th>\n",
       "      <th>0</th>\n",
       "      <th>1</th>\n",
       "      <th>All</th>\n",
       "    </tr>\n",
       "    <tr>\n",
       "      <th>primary_covid_hospital_admission</th>\n",
       "      <th>covid_admission</th>\n",
       "      <th>covid_emergency_admission</th>\n",
       "      <th></th>\n",
       "      <th></th>\n",
       "      <th></th>\n",
       "    </tr>\n",
       "  </thead>\n",
       "  <tbody>\n",
       "    <tr>\n",
       "      <th rowspan=\"4\" valign=\"top\">0</th>\n",
       "      <th rowspan=\"2\" valign=\"top\">0</th>\n",
       "      <th>0</th>\n",
       "      <td>319</td>\n",
       "      <td>310</td>\n",
       "      <td>629</td>\n",
       "    </tr>\n",
       "    <tr>\n",
       "      <th>1</th>\n",
       "      <td>14</td>\n",
       "      <td>19</td>\n",
       "      <td>33</td>\n",
       "    </tr>\n",
       "    <tr>\n",
       "      <th rowspan=\"2\" valign=\"top\">1</th>\n",
       "      <th>0</th>\n",
       "      <td>19</td>\n",
       "      <td>13</td>\n",
       "      <td>32</td>\n",
       "    </tr>\n",
       "    <tr>\n",
       "      <th>1</th>\n",
       "      <td>&lt;10</td>\n",
       "      <td>&lt;10</td>\n",
       "      <td>&lt;10</td>\n",
       "    </tr>\n",
       "    <tr>\n",
       "      <th rowspan=\"3\" valign=\"top\">1</th>\n",
       "      <th rowspan=\"2\" valign=\"top\">0</th>\n",
       "      <th>0</th>\n",
       "      <td>134</td>\n",
       "      <td>143</td>\n",
       "      <td>277</td>\n",
       "    </tr>\n",
       "    <tr>\n",
       "      <th>1</th>\n",
       "      <td>&lt;10</td>\n",
       "      <td>&lt;10</td>\n",
       "      <td>11</td>\n",
       "    </tr>\n",
       "    <tr>\n",
       "      <th>1</th>\n",
       "      <th>0</th>\n",
       "      <td>&lt;10</td>\n",
       "      <td>&lt;10</td>\n",
       "      <td>12</td>\n",
       "    </tr>\n",
       "    <tr>\n",
       "      <th>All</th>\n",
       "      <th></th>\n",
       "      <th></th>\n",
       "      <td>500</td>\n",
       "      <td>500</td>\n",
       "      <td>1000</td>\n",
       "    </tr>\n",
       "  </tbody>\n",
       "</table>\n",
       "</div>"
      ]
     },
     "metadata": {},
     "execution_count": 50
    }
   ],
   "metadata": {}
  },
  {
   "cell_type": "code",
   "execution_count": 51,
   "source": [
    "df=df[(df.primary_covid_hospital_admission==0)&(df.covid_admission==0)&(df.covid_emergency_admission==0)&(df.has_previous_steroid_prescription==0)]\n",
    "print_remainder(df)"
   ],
   "outputs": [
    {
     "output_type": "stream",
     "name": "stdout",
     "text": [
      "Remaining people: 319\n"
     ]
    }
   ],
   "metadata": {}
  },
  {
   "cell_type": "markdown",
   "source": [
    "## GP Consultation\n",
    "The presence of a GP consultation within 7 days prior to, or 7 days post the first positive test result is included as an explanatory variable rather than an exclusion criteria due to uncertainty about its recording."
   ],
   "metadata": {}
  },
  {
   "cell_type": "code",
   "execution_count": 52,
   "source": [
    "excl_count = len(df[df.with_consultation==0].index)\n",
    "print(f'Patients without GP consultation +/- 7 days from positive test {suppress_scalar(excl_count)}')\n",
    "df = df[df.with_consultation == 1]\n",
    "print_remainder(df)"
   ],
   "outputs": [
    {
     "output_type": "stream",
     "name": "stdout",
     "text": [
      "Patients without GP consultation +/- 7 days from positive test 166\n",
      "Remaining people: 153\n"
     ]
    }
   ],
   "metadata": {}
  }
 ],
 "metadata": {
  "orig_nbformat": 4,
  "language_info": {
   "name": "python",
   "version": "3.9.5",
   "mimetype": "text/x-python",
   "codemirror_mode": {
    "name": "ipython",
    "version": 3
   },
   "pygments_lexer": "ipython3",
   "nbconvert_exporter": "python",
   "file_extension": ".py"
  },
  "kernelspec": {
   "name": "python3",
   "display_name": "Python 3.9.5 64-bit ('opensafely': conda)"
  },
  "interpreter": {
   "hash": "11ed7fed7e487618fd7c98b006316e299d100c2ce57103853c1eb8bbdd43197e"
  }
 },
 "nbformat": 4,
 "nbformat_minor": 2
}